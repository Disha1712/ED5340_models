{
 "cells": [
  {
   "cell_type": "markdown",
   "id": "866a4fd2",
   "metadata": {},
   "source": [
    "# LAB 1\n",
    "\n",
    "## 1. What are the features of PYTHON programming language that made it so popular? \n",
    "\n",
    "### Features of Python:\n",
    "- Simple syntax which makes it easy to learn.\n",
    "- Extensive libraries.\n",
    "- It is platform-independent.\n",
    "- It is very versatile and can be used for web development, data analysis, machine learning, artificial intelligence, etc.\n",
    "- It supports object-oriented, procedural, and functional programming paradigms.\n",
    "- It is dynamically typed, i.e., objects are assigned a type at runtime which makes it faster to write code. \n",
    "\n",
    "### Flaws:\n",
    "- Python is slower compared to languages like C++, Java as it is an interpreted language and is dynamically typed.\n",
    "- The dynamic nature of Python can lead to more runtime errors compared to statically typed languages, where errors are caught at compile time.\n",
    "- Python is abstracted from the hardware and is not designed for low-level programming.\n",
    "\n",
    "## 2. What are the differences between a compiled and interpreted programming language?\n",
    "\n",
    "### Differences:\n",
    "\n",
    "| Compiled Languages | Interpreted Languages |\n",
    "|--------------------|----------------------|\n",
    "| The code is translated into machine code by a compiler before it’s executed. | The interpreter reads and runs the code line by line. |\n",
    "| Programs run faster because the computer doesn’t need to translate the code while running it. | Slower execution since the code is interpreted at runtime. |\n",
    "| Programs are usually system-specific and require recompilation to run on different systems. | Can run on different systems without recompilation. |\n",
    "| Errors are caught during compilation, reducing runtime issues. | Errors appear during execution, which can cause crashes. |\n",
    "| **Examples:** C, C++, Rust. | **Examples:** Python, JavaScript, PHP. |\n",
    "\n",
    "## 3. Explain the Object-Oriented Programming Concept. List at least 5 programming languages that follow the OOP concept. Compare and contrast each of them.\n",
    "\n",
    "### Object-Oriented Programming (OOP):\n",
    "OOP organizes code into objects that are created from classes. Each object has its own data (attributes) and functions (methods). OOP is effective for managing complex programs by breaking them into smaller, reusable parts.\n",
    "\n",
    "### Languages Following OOP:\n",
    "\n",
    "1. **C++**: Used for performance-critical applications like games and embedded systems. It offers powerful features like multiple inheritance but has complex syntax and manual memory management challenges like memory leaks.\n",
    "2. **Java**: Widely used for cross-platform apps (e.g., Android development). It’s reliable but has verbose syntax and slower performance than languages like C++.\n",
    "3. **Python**: Known for its simplicity and versatility in web development, data science, and machine learning. Slow compared to compiled languages like C++.\n",
    "4. **C**: A low-level language for system programming with direct hardware access. It’s fast but doesn’t natively support OOP features, making complex OOP designs challenging.\n",
    "5. **OCaml**: Combines functional and object-oriented programming with a strong type system. Used in research and algorithms.\n",
    "\n",
    "## 4. What are \"built-in functions\" in Python? Explain any five.\n",
    "\n",
    "Predefined functions that require no manual definition. Examples include:\n",
    "\n",
    "- `print()`: Outputs data to the console.\n",
    "- `len()`: Returns the length of an object (list, string, tuple, etc.).\n",
    "- `type()`: Returns the type of an object.\n",
    "- `max()`: Returns the largest item in an iterable or the largest among inputs.\n",
    "- `sum()`: Adds up all items in an iterable and returns the total.\n",
    "\n",
    "## 5. What happens when you import a package in Python? Explain with an example.\n",
    "\n",
    "When you import a package in Python, you gain access to the functions, classes, and variables defined in that package. The Python interpreter locates the package in the standard library, loads it into memory, and makes its functionality available in your program.\n",
    "\n",
    "**Example:**\n",
    "```python\n",
    "import math\n",
    "print(math.sqrt(16))  # Outputs 4.0\n",
    "print(math.pi)  # Outputs 3.141592653589793\n",
    "```\n",
    "\n",
    "## 6. What is PEMDAS rule?\n",
    "\n",
    "PEMDAS stands for the order of operations in mathematical expressions. It is an acronym used to remember the order in which operations should be performed to get the correct result:\n",
    "\n",
    "- **P**: Parentheses\n",
    "- **E**: Exponents\n",
    "- **MD**: Multiplication and Division\n",
    "- **AS**: Addition and Subtraction\n",
    "\n",
    "## 7. What is the use of the `help()` function in Python?\n",
    "\n",
    "The `help()` function is used to get information about an object, module, class, or function in Python. It is a useful tool for quickly finding documentation on Python objects without needing to search for it online.\n",
    "\n",
    "**Example:**\n",
    "```python\n",
    "help(len)\n",
    "help(math.sqrt)\n",
    "```\n",
    "\n"
   ]
  },
  {
   "cell_type": "markdown",
   "id": "61f63d01",
   "metadata": {},
   "source": [
    "## 8. Write a simple python program to do arithmetic operations. Follow good programming principles. "
   ]
  },
  {
   "cell_type": "code",
   "execution_count": 1,
   "id": "2105d9a7",
   "metadata": {},
   "outputs": [
    {
     "name": "stdout",
     "output_type": "stream",
     "text": [
      "Simple Arithmetic Operations\n",
      "Enter the first number : 3\n",
      "Enter the second number : 2\n",
      "Addition :  5.0\n",
      "Subtraction :  1.0\n",
      "Multiplication :  6.0\n",
      "Division :  1.5\n"
     ]
    }
   ],
   "source": [
    "def add(a,b):\n",
    "    return a+b\n",
    "\n",
    "def subtract(a,b):\n",
    "    return a-b\n",
    "\n",
    "def multiply(a,b):\n",
    "    return a*b\n",
    "\n",
    "def divide(a,b):\n",
    "    if b == 0:\n",
    "        return \"Error: Division by zero is not allowed.\"\n",
    "    return a/b\n",
    "\n",
    "print(\"Simple Arithmetic Operations\")\n",
    "a = float(input(\"Enter the first number : \"))\n",
    "b = float(input(\"Enter the second number : \"))\n",
    "print(\"Addition : \",add(a,b))\n",
    "print(\"Subtraction : \",subtract(a,b))\n",
    "print(\"Multiplication : \",multiply(a,b))\n",
    "print(\"Division : \",divide(a,b))"
   ]
  },
  {
   "cell_type": "markdown",
   "id": "b6595c11",
   "metadata": {},
   "source": [
    "## 9. Write a program to import only the ‘sqrt’ library from ‘math’ and use it to find the root of a number."
   ]
  },
  {
   "cell_type": "code",
   "execution_count": 2,
   "id": "57cf5547",
   "metadata": {},
   "outputs": [
    {
     "name": "stdout",
     "output_type": "stream",
     "text": [
      "Enter a number : 52\n",
      "The square root of  52 is  7.211102550927978\n"
     ]
    }
   ],
   "source": [
    "from math import sqrt\n",
    "\n",
    "number=int(input(\"Enter a number : \"))\n",
    "if number < 0:\n",
    "    print(\"Error : Cannot compute square root of a negative number\")\n",
    "else:\n",
    "    print(\"The square root of \",number,\"is \",sqrt(number))"
   ]
  },
  {
   "cell_type": "markdown",
   "id": "1a5a4bad",
   "metadata": {},
   "source": [
    "## 10. Write a program that demonstrates the different data types in python. Print the size taken by each data type."
   ]
  },
  {
   "cell_type": "code",
   "execution_count": 12,
   "id": "a26126ab",
   "metadata": {},
   "outputs": [
    {
     "name": "stdout",
     "output_type": "stream",
     "text": [
      "Data Types and Their Sizes:\n",
      "Integer:      56                 Size:  28  bytes\n",
      "Float:        34.35              Size:  24  bytes\n",
      "String:       Hello, Python!     Size:  55  bytes\n",
      "List:         [1, 2, 3]          Size:  88  bytes\n",
      "Tuple:        (1, 2, 3)          Size:  64  bytes\n",
      "Set:          {1, 2, 3}          Size:  216 bytes\n",
      "Boolean:      True               Size:  28  bytes\n"
     ]
    }
   ],
   "source": [
    "import sys\n",
    "\n",
    "int_value = 56\n",
    "float_value = 34.35\n",
    "string_value = \"Hello, Python!\"\n",
    "list_value = [1, 2, 3]\n",
    "tuple_value = (1, 2, 3)\n",
    "set_value = {1, 2, 3}\n",
    "bool_value =  4<6\n",
    "\n",
    "print(\"Data Types and Their Sizes:\")\n",
    "\n",
    "print(\"Integer:     \",int_value,\"                Size: \",sys.getsizeof(int_value),\" bytes\")\n",
    "print(\"Float:       \",float_value,\"             Size: \",sys.getsizeof(float_value),\" bytes\")\n",
    "print(\"String:      \",string_value,\"    Size: \",sys.getsizeof(string_value),\" bytes\")\n",
    "print(\"List:        \",list_value,\"         Size: \",sys.getsizeof(list_value),\" bytes\")\n",
    "print(\"Tuple:       \",tuple_value,\"         Size: \",sys.getsizeof(tuple_value),\" bytes\")\n",
    "print(\"Set:         \",set_value,\"         Size: \",sys.getsizeof(set_value),\"bytes\")\n",
    "print(\"Boolean:     \",bool_value,\"              Size: \",sys.getsizeof(bool_value),\" bytes\")\n"
   ]
  },
  {
   "cell_type": "code",
   "execution_count": null,
   "id": "dc4e6d9e",
   "metadata": {},
   "outputs": [],
   "source": []
  }
 ],
 "metadata": {
  "kernelspec": {
   "display_name": "Python 3 (ipykernel)",
   "language": "python",
   "name": "python3"
  },
  "language_info": {
   "codemirror_mode": {
    "name": "ipython",
    "version": 3
   },
   "file_extension": ".py",
   "mimetype": "text/x-python",
   "name": "python",
   "nbconvert_exporter": "python",
   "pygments_lexer": "ipython3",
   "version": "3.12.3"
  }
 },
 "nbformat": 4,
 "nbformat_minor": 5
}
