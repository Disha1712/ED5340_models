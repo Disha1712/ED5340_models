{
 "cells": [
  {
   "cell_type": "markdown",
   "id": "d829f4d9",
   "metadata": {},
   "source": [
    "# LAB 3\n",
    "\n",
    "## 1. Write a Python code to find k closest neighbors of the given element in a sorted array (list)\n",
    "\n",
    "**Input:** `[2, 3, 4, 5, 6, 7], k = 3, a = 5`\n",
    "\n",
    "**Output:** `[3, 4, 6]`\n",
    "\n",
    "### Rule:\n",
    "- The integer ‘a’ may or may not be present in the input array.\n",
    "- If ‘a’ is less than or equal to the first element in the input array, return the first k elements.\n",
    "- If ‘a’ is more than or equal to the last element in the input array, return the last k elements.\n",
    "- The returned elements should be in the same order as present in the input array.\n"
   ]
  },
  {
   "cell_type": "code",
   "execution_count": 2,
   "id": "a05d0ef8",
   "metadata": {},
   "outputs": [
    {
     "name": "stdout",
     "output_type": "stream",
     "text": [
      "Enter the sorted array elements: 2 4 6 8 10 34 54 65\n",
      "Enter the value of a: 20\n",
      "Enter the value of k: 2\n",
      "[34, 54]\n"
     ]
    }
   ],
   "source": [
    "arr = [int(x) for x in input(\"Enter the sorted array elements: \").split()]\n",
    "a=int(input(\"Enter the value of a: \"))\n",
    "k=int(input(\"Enter the value of k: \"))\n",
    "i=0\n",
    "n=len(arr)\n",
    "while i<n:\n",
    "    if a<=arr[i]:\n",
    "        break\n",
    "    else:\n",
    "        i+=1\n",
    "if i==0:\n",
    "    print(arr[::k])   \n",
    "elif i==n:\n",
    "    print(arr[:i-k-1:])\n",
    "else:\n",
    "    lst2=arr[:i:]\n",
    "    lst2.reverse()\n",
    "    if arr[i]!=a:    \n",
    "        lst3=arr[i::]\n",
    "    else:\n",
    "        lst3=arr[i+1::]\n",
    "    s=[]\n",
    "    i=0\n",
    "    j=0\n",
    "    ct=0\n",
    "    while ct<k and (i<len(lst2) or j<len(lst3)):\n",
    "        if i<len(lst2) and j<len(lst3):\n",
    "            if (a-arr[i]<=arr[j]-a ):\n",
    "                s.append(lst2[i])\n",
    "                i+=1\n",
    "                ct+=1\n",
    "            else:\n",
    "                s.append(lst3[j])\n",
    "                j+=1\n",
    "                ct+=1\n",
    "        elif i<len(lst2):\n",
    "            for x in lst2[i:i+k-ct:]:\n",
    "                s.append(x)\n",
    "            ct=k\n",
    "        else:\n",
    "            set.append(*lst3[j:j+k-ct:])\n",
    "            ct=k\n",
    "    print(s)\n"
   ]
  },
  {
   "cell_type": "markdown",
   "id": "da05ca4a",
   "metadata": {},
   "source": [
    "\n",
    "## 2. Given two lists, print their union and intersection.\n",
    "\n",
    "**Input:** `[1, 2, 4, 5], [2, 4, 6]`\n",
    "\n",
    "**Output:**\n",
    "- **Union:** `[1, 2, 4, 5, 6]`\n",
    "- **Intersection:** `[2, 4]`\n"
   ]
  },
  {
   "cell_type": "code",
   "execution_count": 4,
   "id": "edcecd8a",
   "metadata": {},
   "outputs": [
    {
     "name": "stdout",
     "output_type": "stream",
     "text": [
      "Enter the first list: 2 2 5 3 5 3\n",
      "Enter the second list:  32 54 2 12 5 2 1 3\n",
      "Union :  [32, 1, 2, 3, 5, 12, 54]  Intersection :  [2, 3, 5]\n"
     ]
    }
   ],
   "source": [
    "lst1=[int(x) for x in input(\"Enter the first list: \").split()]\n",
    "lst2=[int(x) for x in input(\"Enter the second list: \").split()]\n",
    "s1=set(lst1)\n",
    "s2=set(lst2)\n",
    "sunion=s1 | s2\n",
    "sinter=s1 & s2\n",
    "print(\"Union : \",list(sunion),\" Intersection : \",list(sinter))\n"
   ]
  },
  {
   "cell_type": "markdown",
   "id": "f8320d93",
   "metadata": {},
   "source": [
    "\n",
    "## 3. Using list comprehension and random number generation between 10 and 100,\n",
    "\n",
    "(a) Print the even numbers\n",
    "\n",
    "(b) Print the odd numbers\n",
    "\n",
    "(c) Print the numbers divisible by 3"
   ]
  },
  {
   "cell_type": "code",
   "execution_count": 5,
   "id": "469c46b9",
   "metadata": {},
   "outputs": [
    {
     "name": "stdout",
     "output_type": "stream",
     "text": [
      "Enter the number of elements: 6\n",
      "Even :  [82, 28, 88]\n",
      "Odd :  [51, 11, 55]\n",
      "Divisible by 3:  [51]\n"
     ]
    }
   ],
   "source": [
    "from random import randint\n",
    "n=int(input(\"Enter the number of elements: \"))\n",
    "lst=[randint(10,100) for x in range(n)]\n",
    "\n",
    "print(\"Even : \", list(x for x in lst if x%2==0))\n",
    "print(\"Odd : \", list(x for x in lst if x%2!=0))\n",
    "print(\"Divisible by 3: \", list(x for x in lst if x%3==0))"
   ]
  },
  {
   "cell_type": "markdown",
   "id": "5416eb91",
   "metadata": {},
   "source": [
    "## 4. Matrix Modification\n",
    "\n",
    "### (1) Given a 3×3 matrix, write a Python script to modify the matrix such that if any element is 0, the entire row and column containing that 0 are set to 0. Finally, print the original and updated matrix.\n",
    "\n",
    "**Example:**\n",
    "\n",
    "**Original Matrix:**  \n",
    "```\n",
    "[[1, 2, 2], \n",
    " [4, 2, 6], \n",
    " [7, 8, 0]]\n",
    "```\n",
    "\n",
    "**Updated Matrix:**\n",
    "```\n",
    "[[1,2,0],\n",
    " [4,2,0],\n",
    " [0,0,0]]\n",
    "```\n",
    "\n",
    "### (2) Do the same using list comprehension.\n"
   ]
  },
  {
   "cell_type": "code",
   "execution_count": 15,
   "id": "e7ac7eaa",
   "metadata": {},
   "outputs": [
    {
     "name": "stdout",
     "output_type": "stream",
     "text": [
      "Enter the row: 3 4 2\n",
      "Enter the row: 2 3 0\n",
      "Enter the row: 4 2 1\n",
      "[[3, 4, 0], [0, 0, 0], [4, 2, 0]]\n",
      "By Using List Comprehension\n",
      "[[3, 4, 0], [0, 0, 0], [4, 2, 0]]\n"
     ]
    }
   ],
   "source": [
    "mat=[]\n",
    "for i in range(3):\n",
    "    mat.append([int(x) for x in input(\"Enter the row: \").split()])\n",
    "m=[row[:] for row in mat]\n",
    "firstans=[row[:] for row in mat]\n",
    "for i in range(3):\n",
    "    for j in range(3):\n",
    "        if mat[i][j]==0:\n",
    "            firstans[i][0:3]=[0,0,0]\n",
    "            for k in range(3):\n",
    "                firstans[k][j]=0\n",
    "print(firstans)\n",
    "print(\"By Using List Comprehension\")\n",
    "rows=[i for i in range(len(m)) if 0 in m[i]]\n",
    "cols=[j for j in range(len(m[0])) if any(m[i][j]==0 for i in range(len(m)))]\n",
    "ans=[[0 if i in rows or j in cols else m[i][j] for j in range(len(m[0]))] for i in range(len(m))]\n",
    "print(ans)\n"
   ]
  },
  {
   "cell_type": "markdown",
   "id": "cd9c9b39",
   "metadata": {},
   "source": [
    "## 5. Create 3 tuples: one for name, one for age, and one for salary. \n",
    "\n",
    "- Group them using indexing approach (with and without comprehension) and then with the `zip()` function.\n",
    "- Print the output as a list.\n",
    ";"
   ]
  },
  {
   "cell_type": "code",
   "execution_count": 16,
   "id": "8e9d882e",
   "metadata": {},
   "outputs": [
    {
     "name": "stdout",
     "output_type": "stream",
     "text": [
      "[('A', 25, 50000), ('B', 30, 60000), ('C', 35, 75000), ('D', 28, 55000)]\n",
      "[('A', 25, 50000), ('B', 30, 60000), ('C', 35, 75000), ('D', 28, 55000)]\n",
      "[('A', 25, 50000), ('B', 30, 60000), ('C', 35, 75000), ('D', 28, 55000)]\n"
     ]
    }
   ],
   "source": [
    "names = (\"A\", \"B\", \"C\", \"D\")\n",
    "ages = (25, 30, 35, 28)\n",
    "salaries = (50000, 60000, 75000, 55000)\n",
    "\n",
    "l1=[]\n",
    "for i in range(len(names)):\n",
    "    l1.append((names[i],ages[i],salaries[i]))\n",
    "print(l1)\n",
    "l2=[(names[i], ages[i], salaries[i]) for i in range(len(names))]\n",
    "print(l2)\n",
    "l3=list(zip(names, ages, salaries))\n",
    "print(l3)"
   ]
  },
  {
   "cell_type": "markdown",
   "id": "4307cc62",
   "metadata": {},
   "source": [
    "## 6. For two matrices of size 3×3 each, perform the following matrix operations:\n",
    "\n",
    "(a) **Transpose**  \n",
    "(b) **Addition**  \n",
    "(c) **Subtraction**  \n",
    "(d) **Trace**  \n",
    "\n",
    "For each operation, do it in both ways:\n",
    "\n",
    "(i) Without using `zip()` but using list comprehension\n",
    "\n",
    "(ii) Using `zip()`\n"
   ]
  },
  {
   "cell_type": "code",
   "execution_count": 13,
   "id": "eb0d7ac4",
   "metadata": {},
   "outputs": [
    {
     "name": "stdout",
     "output_type": "stream",
     "text": [
      "Enter row for Matrix A: 3 2 4\n",
      "Enter row for Matrix A: 2 4 2\n",
      "Enter row for Matrix A: 3 4 2\n",
      "Enter row for Matrix B: 4 2 2\n",
      "Enter row for Matrix B: 2 4 2\n",
      "Enter row for Matrix B: 2 34 432\n",
      "Using List Comprehension:\n",
      "Transpose of B: [[4, 2, 2], [2, 4, 34], [2, 2, 432]]\n",
      "Sum of Matrices: [[7, 4, 6], [4, 8, 4], [5, 38, 434]]\n",
      "Subtraction of Matrices: [[-1, 0, 2], [0, 0, 0], [1, -30, -430]]\n",
      "Trace of Matrix A: <generator object <genexpr> at 0x75f48c58b850>\n",
      "Using zip:\n",
      "Transpose of B: [[4, 2, 2], [2, 4, 34], [2, 2, 432]]\n",
      "Sum using zip: [[7, 4, 6], [4, 8, 4], [5, 38, 434]]\n",
      "Difference using zip: [[-1, 0, 2], [0, 0, 0], [1, -30, -430]]\n",
      "Trace of Matrix A using zip: <generator object <genexpr> at 0x75f48c6aa400>\n"
     ]
    }
   ],
   "source": [
    "n = 3\n",
    "A = []\n",
    "for i in range(n):\n",
    "    A.append([int(x) for x in input(\"Enter row for Matrix A: \").split()])\n",
    "\n",
    "B = []\n",
    "for i in range(n):\n",
    "    B.append([int(x) for x in input(\"Enter row for Matrix B: \").split()])\n",
    "\n",
    "print(\"Using List Comprehension:\")\n",
    "trans = [[B[j][i] for j in range(n)] for i in range(n)]\n",
    "print(\"Transpose of B:\", trans)\n",
    "\n",
    "matrix_sum = [[A[i][j] + B[i][j] for j in range(n)] for i in range(n)]\n",
    "print(\"Sum of Matrices:\", matrix_sum)\n",
    "\n",
    "sub_matrix = [[A[i][j] - B[i][j] for j in range(n)] for i in range(n)]\n",
    "print(\"Subtraction of Matrices:\", sub_matrix)\n",
    "\n",
    "trace_A = (A[i][i] for i in range(n))\n",
    "print(\"Trace of Matrix A:\", trace_A)\n",
    "\n",
    "print(\"Using zip:\")\n",
    "trans_zip = list(map(list, zip(*B)))\n",
    "print(\"Transpose of B:\", trans_zip)\n",
    "\n",
    "matrix_sum_zip = [list(map(lambda x: x[0] + x[1], zip(*rows))) for rows in zip(A, B)]\n",
    "print(\"Sum using zip:\", matrix_sum_zip)\n",
    "\n",
    "diff_matrix_zip = [list(map(lambda x: x[0] - x[1], zip(*rows))) for rows in zip(A, B)]\n",
    "print(\"Difference using zip:\", diff_matrix_zip)\n",
    "\n",
    "trace_A_zip = (A[i][i] for i in range(n))\n",
    "print(\"Trace of Matrix A using zip:\", trace_A_zip)\n"
   ]
  },
  {
   "cell_type": "markdown",
   "id": "23fc3fc1",
   "metadata": {},
   "source": [
    "## 8. Write a Python program that takes a list of integers and a target sum as input. \n",
    "\n",
    "- Use a set to determine if there exist two distinct numbers in the list whose sum equals the target.\n",
    "- If such a pair exists, print **\"Pair found\"**; otherwise, print **\"No pair found\"**.\n",
    "\n",
    "### Example Inputs:\n",
    "\n",
    "#### Case 1:\n",
    "```python\n",
    "nums = [3, 8, 12, 4, 7, 9] \n",
    "target = 15\n",
    "```\n",
    "**Output:** \"Pair found\"\n",
    "\n",
    "#### Case 2:\n",
    "```python\n",
    "nums = [5, 1, 9, 14, 6, 3]\n",
    "target = 20\n",
    "```\n",
    "**Output:** \"No pair found\""
   ]
  },
  {
   "cell_type": "code",
   "execution_count": 3,
   "id": "d498186d",
   "metadata": {},
   "outputs": [
    {
     "name": "stdout",
     "output_type": "stream",
     "text": [
      "Enter numbers separated by space: 3 4 5 2 6 2 25 4 2 1 6 88 6 5 2 6 78\n",
      "Enter target sum: 23\n",
      "No pair found\n"
     ]
    }
   ],
   "source": [
    "nums=[int(x) for x in input(\"Enter numbers separated by space: \").split()]\n",
    "target=int(input(\"Enter target sum: \"))\n",
    "s=set()\n",
    "flag=False\n",
    "for num in nums:\n",
    "    comp=target-num\n",
    "    if comp in s:\n",
    "        print(\"Pair found\")\n",
    "        flag=True\n",
    "        break\n",
    "    s.add(num)\n",
    "if (not flag):\n",
    "    print(\"No pair found\")"
   ]
  },
  {
   "cell_type": "markdown",
   "id": "f762e862",
   "metadata": {},
   "source": [
    "## 9. Find out the methods that are applicable for lists but not for tuples. List them."
   ]
  },
  {
   "cell_type": "markdown",
   "id": "7d756e55",
   "metadata": {},
   "source": [
    "### List Methods (Not Applicable to Tuples):\n",
    "\n",
    "- **`append()`** – Adds an item to the end of the list.\n",
    "- **`extend()`** – Extends the list by appending elements from an iterable.\n",
    "- **`insert()`** – Inserts an item at a specified position.\n",
    "- **`remove()`** – Removes the first occurrence of an item.\n",
    "- **`pop()`** – Removes and returns the item at the specified index (default is last).\n",
    "- **`clear()`** – Removes all elements from the list.\n",
    "- **`sort()`** – Sorts the list in place.\n",
    "- **`reverse()`** – Reverses the elements of the list in place."
   ]
  },
  {
   "cell_type": "code",
   "execution_count": null,
   "id": "2c84d9b0",
   "metadata": {},
   "outputs": [],
   "source": []
  }
 ],
 "metadata": {
  "kernelspec": {
   "display_name": "Python 3 (ipykernel)",
   "language": "python",
   "name": "python3"
  },
  "language_info": {
   "codemirror_mode": {
    "name": "ipython",
    "version": 3
   },
   "file_extension": ".py",
   "mimetype": "text/x-python",
   "name": "python",
   "nbconvert_exporter": "python",
   "pygments_lexer": "ipython3",
   "version": "3.12.3"
  }
 },
 "nbformat": 4,
 "nbformat_minor": 5
}
