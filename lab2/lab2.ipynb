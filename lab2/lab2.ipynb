{
 "cells": [
  {
   "cell_type": "markdown",
   "id": "0d71d266",
   "metadata": {},
   "source": [
    "# LAB 2\n",
    "## 1. Given an integer or a string (assume to be a single word), find out the sum of its digits. (Read input from console )"
   ]
  },
  {
   "cell_type": "code",
   "execution_count": 2,
   "id": "91d59762",
   "metadata": {},
   "outputs": [
    {
     "name": "stdout",
     "output_type": "stream",
     "text": [
      "Enter a number : 22344232\n",
      "Sum of digits :  22\n"
     ]
    }
   ],
   "source": [
    "x=int(input(\"Enter a number : \"))\n",
    "num=x\n",
    "sum=0\n",
    "while num:\n",
    "    sum+=num%10\n",
    "    num//=10\n",
    "print(\"Sum of digits : \",sum)"
   ]
  },
  {
   "cell_type": "markdown",
   "id": "6e95f314",
   "metadata": {},
   "source": [
    "## 2. Create a list of random integers in range(1,100) , find the median of the numbers in the list, later divide the list into two sublists with respect to the median."
   ]
  },
  {
   "cell_type": "code",
   "execution_count": 3,
   "id": "5a7e94eb",
   "metadata": {},
   "outputs": [
    {
     "name": "stdout",
     "output_type": "stream",
     "text": [
      "[1, 5, 9, 22, 22, 22, 29, 29, 39, 53]\n",
      "[54, 66, 70, 72, 72, 78, 80, 81, 85, 86]\n"
     ]
    }
   ],
   "source": [
    "import random\n",
    "lst=[]\n",
    "n=20\n",
    "for i in range(n):\n",
    "    lst.append(random.randint(1,100))\n",
    "lst.sort()\n",
    "Median=lst[len(lst)//2]\n",
    "lst2=[]\n",
    "lst3=[]\n",
    "for i in lst:\n",
    "    if i<Median:\n",
    "        lst2.append(i)\n",
    "    else:\n",
    "        lst3.append(i)\n",
    "print(lst2)\n",
    "print(lst3)"
   ]
  },
  {
   "cell_type": "markdown",
   "id": "59657ba4",
   "metadata": {},
   "source": [
    "## 3. Using loops, compute the series for (a) exp(x), (b) sin x and (c) cos x, taking input as x (and you can also take input for the number of terms to be computed in the series)."
   ]
  },
  {
   "cell_type": "code",
   "execution_count": 5,
   "id": "f522a935",
   "metadata": {},
   "outputs": [
    {
     "name": "stdout",
     "output_type": "stream",
     "text": [
      "Enter a number : 2\n",
      "Enter number of terms to be computed : 10\n",
      "exp(x) =  7.3887125220458545\n",
      "sin(x) =  0.909297426825641\n",
      "cos(x) =  -0.41614683654756973\n"
     ]
    }
   ],
   "source": [
    "x=float(input(\"Enter a number : \"))\n",
    "n=int(input(\"Enter number of terms to be computed : \"))\n",
    "expx=0\n",
    "fact=1\n",
    "for i in range(n):\n",
    "    expx+=(x**i)/fact\n",
    "    fact*=i+1\n",
    "print(\"exp(x) = \",expx)\n",
    "sinx=0\n",
    "fact=1\n",
    "for i in range(n):\n",
    "    sinx+=((pow(-1,i))*(pow(x,2*i+1)))/fact\n",
    "    fact*=(2*i+2)*(2*i+3)\n",
    "print(\"sin(x) = \",sinx)\n",
    "cosx=0\n",
    "fact=1\n",
    "for i in range(n):\n",
    "    cosx+=(pow(-1,i)*pow(x,2*i))/fact\n",
    "    fact*=(2*i+1)*(2*i+2)\n",
    "print(\"cos(x) = \",cosx)"
   ]
  },
  {
   "cell_type": "markdown",
   "id": "0a6be49f",
   "metadata": {},
   "source": [
    "## 4. WAP to check if an input are a palindrome (a) using string operations (b) without using string operations."
   ]
  },
  {
   "cell_type": "code",
   "execution_count": 7,
   "id": "32fcdb1a",
   "metadata": {},
   "outputs": [
    {
     "name": "stdout",
     "output_type": "stream",
     "text": [
      "Enter a string to check for palindrome: STRSTRTSRTS\n",
      "STRSTRTSRTS is a palindrome.\n",
      "STRSTRTSRTS is a palindrome.\n"
     ]
    }
   ],
   "source": [
    "str=input(\"Enter a string to check for palindrome: \")\n",
    "rev=str[-1::-1]\n",
    "#Checking for palindrome using string operations\n",
    "if (str==rev):\n",
    "    print(str, \"is a palindrome.\")\n",
    "else:\n",
    "    print(str, \"is not a palindrome.\")\n",
    "\n",
    "#Checking for palindrome using a loop\n",
    "flag=True\n",
    "for i in range(len(str)//2):\n",
    "    if str[i]!=str[len(str)-i-1]:\n",
    "        flag=False\n",
    "        break\n",
    "if flag:\n",
    "    print(str, \"is a palindrome.\")\n",
    "else:\n",
    "    print(str, \"is not a palindrome.\")"
   ]
  },
  {
   "cell_type": "markdown",
   "id": "795c2677",
   "metadata": {},
   "source": [
    "## 5.Given a string str, the task is to reverse the order of the words in the given string. There is a space between two words. "
   ]
  },
  {
   "cell_type": "code",
   "execution_count": 12,
   "id": "eeab220a",
   "metadata": {},
   "outputs": [
    {
     "name": "stdout",
     "output_type": "stream",
     "text": [
      "Enter input text : nk sfdsfd saddas dvs\n",
      "dvs saddas sfdsfd nk "
     ]
    }
   ],
   "source": [
    "text=input(\"Enter input text : \")\n",
    "lst=text.split(\" \")\n",
    "lst.reverse()\n",
    "for l in lst:\n",
    "    print(l, end=\" \")"
   ]
  },
  {
   "cell_type": "markdown",
   "id": "b7d95b1b",
   "metadata": {},
   "source": [
    "## 6.WAP to take a sentence as input from the user and store every second character from the input string using slicing in a list. Print the remaining string in reverse order using slicing."
   ]
  },
  {
   "cell_type": "code",
   "execution_count": 14,
   "id": "b8fe67c6",
   "metadata": {},
   "outputs": [
    {
     "name": "stdout",
     "output_type": "stream",
     "text": [
      "Enter input text : vencidores\n",
      "srdce"
     ]
    }
   ],
   "source": [
    "text=input(\"Enter input text : \")\n",
    "lst=list(text)\n",
    "lst=text.replace(\" \",\"\")\n",
    "lst=lst[1::2]\n",
    "lst=lst[-1::-1]\n",
    "for i in lst:\n",
    "    print(i, end=\"\")"
   ]
  },
  {
   "cell_type": "markdown",
   "id": "5e9e82fc",
   "metadata": {},
   "source": [
    "## 7.Find about continue, and pass statements and WAP to demonstrate them. "
   ]
  },
  {
   "cell_type": "code",
   "execution_count": 15,
   "id": "188b26e8",
   "metadata": {},
   "outputs": [
    {
     "name": "stdout",
     "output_type": "stream",
     "text": [
      "1\n",
      "3\n",
      "5\n",
      "7\n",
      "9\n",
      "1\n",
      "3\n",
      "5\n",
      "7\n",
      "9\n"
     ]
    }
   ],
   "source": [
    "\"\"\" continue statements are used to conitnuethe loop execution\n",
    " without executing the remaining code in the loop.          \"\"\"\n",
    "\n",
    "for num in range(1, 10):\n",
    "    if num % 2 == 0:\n",
    "        continue\n",
    "    print(num)\n",
    "\n",
    "\"\"\" pass statements are used as a placeholder for statements that do not execute\n",
    "     any code in the loop.                                                        \"\"\"\n",
    "\n",
    "for num in range(1, 10):\n",
    "    if num % 2 == 0:\n",
    "        pass\n",
    "    else:\n",
    "        print(num)"
   ]
  }
 ],
 "metadata": {
  "kernelspec": {
   "display_name": "Python 3 (ipykernel)",
   "language": "python",
   "name": "python3"
  },
  "language_info": {
   "codemirror_mode": {
    "name": "ipython",
    "version": 3
   },
   "file_extension": ".py",
   "mimetype": "text/x-python",
   "name": "python",
   "nbconvert_exporter": "python",
   "pygments_lexer": "ipython3",
   "version": "3.12.3"
  }
 },
 "nbformat": 4,
 "nbformat_minor": 5
}
