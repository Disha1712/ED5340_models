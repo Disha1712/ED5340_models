{
 "cells": [
  {
   "cell_type": "markdown",
   "id": "d7b46ff8",
   "metadata": {},
   "source": [
    "# LAB 4\n",
    "\n",
    "## 1. Determine if Two Strings are Anagrams\n",
    "Write a function to check if two strings are anagrams of each other.\n",
    "\n",
    "**Definition:**\n",
    "An anagram is a word or phrase formed by rearranging the letters of a different word or phrase.\n"
   ]
  },
  {
   "cell_type": "code",
   "execution_count": 2,
   "id": "7b9d7e88",
   "metadata": {},
   "outputs": [
    {
     "name": "stdout",
     "output_type": "stream",
     "text": [
      "Enter first string: GDVD\n",
      "Enter second string: DDGV\n",
      "The strings are anagrams.\n"
     ]
    }
   ],
   "source": [
    "str1=input(\"Enter first string: \")\n",
    "str2=input(\"Enter second string: \")\n",
    "dict1={}\n",
    "for char in str1:\n",
    "    if char in dict1:\n",
    "        dict1[char]+=1\n",
    "    else:\n",
    "        dict1[char]=1\n",
    "dict2={}\n",
    "for char in str2:\n",
    "    if char in dict2:\n",
    "        dict2[char]+=1\n",
    "    else:\n",
    "        dict2[char]=1\n",
    "if dict1==dict2:\n",
    "    print(\"The strings are anagrams.\")\n",
    "else:\n",
    "    print(\"The strings are not anagrams.\")"
   ]
  },
  {
   "cell_type": "markdown",
   "id": "2c0cdf26",
   "metadata": {},
   "source": [
    "\n",
    "\n",
    "## 2. Implement Recursive Power Function\n",
    "Write a function to compute `pow(x, n)`, which calculates `x` raised to the power `n` (i.e., `x**n`) using recursion.\n",
    "\n",
    "**Requirements:**\n",
    "- The function should work for both positive and negative values of `n`.\n"
   ]
  },
  {
   "cell_type": "code",
   "execution_count": 3,
   "id": "266d1696",
   "metadata": {},
   "outputs": [
    {
     "name": "stdout",
     "output_type": "stream",
     "text": [
      "Enter the value of x: 43\n",
      "Enter the value of n: 2\n",
      "43 raised to the power  2  =  1849\n"
     ]
    }
   ],
   "source": [
    "x=int(input(\"Enter the value of x: \"))\n",
    "n=int(input(\"Enter the value of n: \"))\n",
    "\n",
    "def pow(x,n):\n",
    "    if n==0:\n",
    "        return 1\n",
    "    else:\n",
    "        return x*pow(x,n-1)\n",
    "\n",
    "if (n<0):\n",
    "    result=1/pow(x,-n)\n",
    "else:\n",
    "    result=pow(x,n)\n",
    "print(x,\"raised to the power \",n,\" = \",result)\n",
    "    "
   ]
  },
  {
   "cell_type": "markdown",
   "id": "05588732",
   "metadata": {},
   "source": [
    "\n",
    "## 3. Solve Quadratic Equations Using Lambda Functions\n",
    "Implement a lambda function to solve quadratic equations of the form:\n",
    "\n",
    "\\[ ax^2 + bx + c = 0 \\]\n"
   ]
  },
  {
   "cell_type": "code",
   "execution_count": 4,
   "id": "47ea58ca",
   "metadata": {},
   "outputs": [
    {
     "name": "stdout",
     "output_type": "stream",
     "text": [
      "Enter the values of a,b,c separated by spaces: \n",
      "4 3 5\n",
      "Roots of the given equation are:  ((-5.999999999999999+16.852299546352718j), (-6.000000000000001-16.852299546352718j))\n"
     ]
    }
   ],
   "source": [
    "from math import sqrt\n",
    "print(\"Enter the values of a,b,c separated by spaces: \")\n",
    "inp=input()\n",
    "a,b,c=map(int,inp.split())\n",
    "\n",
    "roots=lambda a,b,c:((-b+(b**2-4*a*c)**0.5)/2*a,(-b-(b**2-4*a*c)**0.5)/2*a)\n",
    "print(\"Roots of the given equation are: \",roots(a,b,c))"
   ]
  },
  {
   "cell_type": "markdown",
   "id": "14a76e64",
   "metadata": {},
   "source": [
    "## 4. Rename a Key in a Dictionary\n",
    "Write a function that takes a dictionary and renames a key while preserving its original value.\n",
    "\n",
    "**Example:**\n",
    "- Rename key \"23\" to \"var\".\n"
   ]
  },
  {
   "cell_type": "code",
   "execution_count": 5,
   "id": "553f9e1c",
   "metadata": {},
   "outputs": [
    {
     "name": "stdout",
     "output_type": "stream",
     "text": [
      "{'a': 1, 'c': 3, 'd': 4, 'e': 5, 'f': 2}\n"
     ]
    }
   ],
   "source": [
    "dict={\"a\": 1, \"b\": 2, \"c\": 3, \"d\": 4, \"e\": 5}\n",
    "\n",
    "def change_key(key,new_key):\n",
    "    dict[new_key] = dict[key]\n",
    "    del(dict[key])\n",
    "\n",
    "change_key(\"b\", \"f\")\n",
    "print(dict)"
   ]
  },
  {
   "cell_type": "markdown",
   "id": "dfcbfd81",
   "metadata": {},
   "source": [
    "\n",
    "## 5. Sorting with Lambda Functions\n",
    "You are given a list of numbers. Your task is to:\n",
    "\n",
    "1. Sort the list in ascending order using a lambda function.\n",
    "2. Sort the list in descending order using a lambda function.\n",
    "3. Sort a list of tuples where each tuple contains a name and an age, based on age using a lambda function.\n",
    "\n",
    "**Example:**\n",
    "```python\n",
    "numbers = [5, 2, 9, 1, 7]\n",
    "people = [(\"Alice\", 25), (\"Bob\", 22), (\"Charlie\", 30), (\"David\", 27)]\n",
    "```\n",
    "\n",
    "**Expected Output:**\n",
    "```python\n",
    "Ascending order: [1, 2, 5, 7, 9]\n",
    "Descending order: [9, 7, 5, 2, 1]\n",
    "Sorted by age: [('Bob', 22), ('Alice', 25), ('David', 27), ('Charlie', 30)]\n",
    "```\n"
   ]
  },
  {
   "cell_type": "code",
   "execution_count": 6,
   "id": "bb4fe14a",
   "metadata": {},
   "outputs": [
    {
     "name": "stdout",
     "output_type": "stream",
     "text": [
      "Enter the values of list separated by spaces: 4 2 54 312 45  1 3\n",
      "[1, 2, 3, 4, 45, 54, 312]\n",
      "[312, 54, 45, 4, 3, 2, 1]\n",
      "[('Bob', 22), ('Alice', 25), ('David', 27), ('Charlie', 30)]\n"
     ]
    }
   ],
   "source": [
    "inp=input(\"Enter the values of list separated by spaces: \")\n",
    "lst=list(map(int,inp.split()))\n",
    "lst1=sorted(lst,key=lambda k: k)\n",
    "lst2=sorted(lst,key=lambda k: -k)\n",
    "print(lst1)\n",
    "print(lst2)\n",
    "\n",
    "people = [(\"Alice\", 25), (\"Bob\", 22), (\"Charlie\", 30), (\"David\", 27)]\n",
    "tup1 = sorted(people, key = lambda kv1 : kv1[1])\n",
    "print(tup1)"
   ]
  },
  {
   "cell_type": "markdown",
   "id": "f5243d03",
   "metadata": {},
   "source": [
    "## 6. Recursive Fibonacci Function\n",
    "Write a recursive function to return the `n`-th term in the Fibonacci series.\n",
    "\n"
   ]
  },
  {
   "cell_type": "code",
   "execution_count": 9,
   "id": "4b88bec6",
   "metadata": {},
   "outputs": [
    {
     "name": "stdout",
     "output_type": "stream",
     "text": [
      "Enter the term of fibonacci required: 7\n",
      "8\n"
     ]
    }
   ],
   "source": [
    "def fib(n):\n",
    "    if n<=0:\n",
    "        print(\"Incorrect input\")\n",
    "        return\n",
    "    if n==1:\n",
    "        return 0\n",
    "    elif n==2:\n",
    "        return 1\n",
    "    return fib(n-1)+fib(n-2)\n",
    "\n",
    "n=int(input(\"Enter the term of fibonacci required: \"))\n",
    "print(fib(n))\n",
    "\n"
   ]
  },
  {
   "cell_type": "markdown",
   "id": "dc364614",
   "metadata": {},
   "source": [
    "\n",
    "## 7. Count Character Frequency in a String\n",
    "Given a string, count the frequency of characters using a dictionary."
   ]
  },
  {
   "cell_type": "code",
   "execution_count": 8,
   "id": "e23ea3ec",
   "metadata": {},
   "outputs": [
    {
     "name": "stdout",
     "output_type": "stream",
     "text": [
      "Enter a string: FDGFGDFS\n",
      "{'F': 3, 'D': 2, 'G': 2, 'S': 1}\n"
     ]
    }
   ],
   "source": [
    "st=input(\"Enter a string: \")\n",
    "dict1={}\n",
    "for char in st:\n",
    "    if char in dict1:\n",
    "        dict1[char]+=1\n",
    "    else:\n",
    "        dict1[char]=1\n",
    "print(dict1)"
   ]
  },
  {
   "cell_type": "code",
   "execution_count": null,
   "id": "b0810df9",
   "metadata": {},
   "outputs": [],
   "source": []
  }
 ],
 "metadata": {
  "kernelspec": {
   "display_name": "Python 3 (ipykernel)",
   "language": "python",
   "name": "python3"
  },
  "language_info": {
   "codemirror_mode": {
    "name": "ipython",
    "version": 3
   },
   "file_extension": ".py",
   "mimetype": "text/x-python",
   "name": "python",
   "nbconvert_exporter": "python",
   "pygments_lexer": "ipython3",
   "version": "3.12.3"
  }
 },
 "nbformat": 4,
 "nbformat_minor": 5
}
